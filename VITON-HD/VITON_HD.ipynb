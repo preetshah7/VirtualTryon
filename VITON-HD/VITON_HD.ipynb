{
  "cells": [
    {
      "cell_type": "code",
      "execution_count": 1,
      "metadata": {
        "colab": {
          "base_uri": "https://localhost:8080/"
        },
        "id": "kT8Yo12AU_xF",
        "outputId": "953cad26-53fa-448f-9635-123f6e04f485"
      },
      "outputs": [
        {
          "name": "stdout",
          "output_type": "stream",
          "text": [
            "Fri Jan 21 22:32:23 2022       \n",
            "+-----------------------------------------------------------------------------+\n",
            "| NVIDIA-SMI 470.86       Driver Version: 470.86       CUDA Version: 11.4     |\n",
            "|-------------------------------+----------------------+----------------------+\n",
            "| GPU  Name        Persistence-M| Bus-Id        Disp.A | Volatile Uncorr. ECC |\n",
            "| Fan  Temp  Perf  Pwr:Usage/Cap|         Memory-Usage | GPU-Util  Compute M. |\n",
            "|                               |                      |               MIG M. |\n",
            "|===============================+======================+======================|\n",
            "|   0  NVIDIA GeForce ...  Off  | 00000000:01:00.0 Off |                  N/A |\n",
            "| N/A   58C    P0    N/A /  N/A |    295MiB /  2004MiB |     12%      Default |\n",
            "|                               |                      |                  N/A |\n",
            "+-------------------------------+----------------------+----------------------+\n",
            "                                                                               \n",
            "+-----------------------------------------------------------------------------+\n",
            "| Processes:                                                                  |\n",
            "|  GPU   GI   CI        PID   Type   Process name                  GPU Memory |\n",
            "|        ID   ID                                                   Usage      |\n",
            "|=============================================================================|\n",
            "|    0   N/A  N/A      7055      G   /usr/lib/xorg/Xorg                 83MiB |\n",
            "|    0   N/A  N/A      7263      G   /usr/bin/gnome-shell               30MiB |\n",
            "|    0   N/A  N/A     10607      G   ...AAAAAAAAA= --shared-files       62MiB |\n",
            "|    0   N/A  N/A     11031      G   /usr/lib/firefox/firefox          112MiB |\n",
            "|    0   N/A  N/A     11342      G   /usr/lib/firefox/firefox            0MiB |\n",
            "+-----------------------------------------------------------------------------+\n"
          ]
        }
      ],
      "source": [
        "!nvidia-smi"
      ]
    },
    {
      "cell_type": "code",
      "execution_count": 2,
      "metadata": {
        "colab": {
          "base_uri": "https://localhost:8080/"
        },
        "id": "dLYiezwaNAXP",
        "outputId": "6c128cb6-b83d-4f20-c09f-277bc98168d3"
      },
      "outputs": [
        {
          "name": "stdout",
          "output_type": "stream",
          "text": [
            "fatal: destination path 'VITON-HD' already exists and is not an empty directory.\n"
          ]
        }
      ],
      "source": [
        "!git clone https://github.com/shadow2496/VITON-HD.git"
      ]
    },
    {
      "cell_type": "code",
      "execution_count": 3,
      "metadata": {
        "colab": {
          "base_uri": "https://localhost:8080/"
        },
        "id": "Omfgq-EYNIHA",
        "outputId": "0c2891aa-db11-4d57-cc23-7afadf0ddb4a"
      },
      "outputs": [
        {
          "name": "stdout",
          "output_type": "stream",
          "text": [
            "/home/geralt/Downloads/VITON-HD\n"
          ]
        }
      ],
      "source": [
        "cd VITON-HD/"
      ]
    },
    {
      "cell_type": "code",
      "execution_count": 4,
      "metadata": {
        "colab": {
          "base_uri": "https://localhost:8080/"
        },
        "id": "F0DRjzT9NVDb",
        "outputId": "744559a2-7aca-447b-8fcc-0c30fde72445"
      },
      "outputs": [
        {
          "name": "stdout",
          "output_type": "stream",
          "text": [
            "Requirement already satisfied: opencv-python in /home/geralt/anaconda3/envs/dior/lib/python3.8/site-packages (4.5.1.48)\n",
            "Collecting torchgeometry\n",
            "  Using cached torchgeometry-0.1.2-py2.py3-none-any.whl (42 kB)\n",
            "Requirement already satisfied: torchvision in /home/geralt/anaconda3/envs/dior/lib/python3.8/site-packages (0.11.2)\n",
            "Requirement already satisfied: numpy>=1.17.3 in /home/geralt/anaconda3/envs/dior/lib/python3.8/site-packages (from opencv-python) (1.21.2)\n",
            "Requirement already satisfied: torch>=1.0.0 in /home/geralt/anaconda3/envs/dior/lib/python3.8/site-packages (from torchgeometry) (1.10.1)\n",
            "Requirement already satisfied: pillow!=8.3.0,>=5.3.0 in /home/geralt/anaconda3/envs/dior/lib/python3.8/site-packages (from torchvision) (6.2.2)\n",
            "Requirement already satisfied: typing_extensions in /home/geralt/anaconda3/envs/dior/lib/python3.8/site-packages (from torch>=1.0.0->torchgeometry) (3.7.4.3)\n",
            "Installing collected packages: torchgeometry\n",
            "Successfully installed torchgeometry-0.1.2\n"
          ]
        }
      ],
      "source": [
        "!pip install opencv-python torchgeometry torchvision"
      ]
    },
    {
      "cell_type": "code",
      "execution_count": 5,
      "metadata": {
        "colab": {
          "base_uri": "https://localhost:8080/"
        },
        "id": "0YJuyoWSO8wZ",
        "outputId": "cfeb99f5-ce15-47d6-ded7-7aa76887f3b5"
      },
      "outputs": [
        {
          "name": "stdout",
          "output_type": "stream",
          "text": [
            "Downloading...\n",
            "From: https://drive.google.com/uc?id=1RM4OthSM6V4r7kWCu8SbPIPY14Oz8B2u\n",
            "To: /home/geralt/Downloads/VITON-HD/alias_final.pth\n",
            "100%|████████████████████████████████████████| 402M/402M [02:45<00:00, 2.42MB/s]\n",
            "Downloading...\n",
            "From: https://drive.google.com/uc?id=1MBHBddaAs7sy8W40jzLmNL83AUh035F1\n",
            "To: /home/geralt/Downloads/VITON-HD/gmm_final.pth\n",
            "100%|██████████████████████████████████████| 76.2M/76.2M [00:30<00:00, 2.46MB/s]\n",
            "Downloading...\n",
            "From: https://drive.google.com/uc?id=17U1sooR3mVIbe8a7rZuFIF3kukPchHfZ\n",
            "To: /home/geralt/Downloads/VITON-HD/seg_final.pth\n",
            "100%|████████████████████████████████████████| 138M/138M [00:57<00:00, 2.41MB/s]\n"
          ]
        }
      ],
      "source": [
        "# checkpoints/\n",
        "\n",
        "!gdown --id 1RM4OthSM6V4r7kWCu8SbPIPY14Oz8B2u\n",
        "!mv alias_final.pth /home/geralt/Downloads/VITON-HD/checkpoints/\n",
        "!gdown --id 1MBHBddaAs7sy8W40jzLmNL83AUh035F1\n",
        "!mv gmm_final.pth /home/geralt/Downloads/VITON-HD/checkpoints/\n",
        "!gdown --id 17U1sooR3mVIbe8a7rZuFIF3kukPchHfZ\n",
        "!mv seg_final.pth /home/geralt/Downloads/VITON-HD/checkpoints/"
      ]
    },
    {
      "cell_type": "code",
      "execution_count": 6,
      "metadata": {
        "colab": {
          "base_uri": "https://localhost:8080/"
        },
        "id": "oIBk_hxmRaIt",
        "outputId": "b4c487ad-f69d-4f43-c912-de6198c33fcb"
      },
      "outputs": [
        {
          "name": "stdout",
          "output_type": "stream",
          "text": [
            "Downloading...\n",
            "From: https://drive.google.com/uc?id=1ncEHn_6liOot8sgt3A2DOFJBffvx8tW8\n",
            "To: /home/geralt/Downloads/VITON-HD/test_pairs.txt\n",
            "100%|██████████████████████████████████████████| 156/156 [00:00<00:00, 83.5kB/s]\n",
            "Downloading...\n",
            "From: https://drive.google.com/uc?id=1ZA2C8yMOprwc0TV4hvrt0X-ljZugrClq\n",
            "To: /home/geralt/Downloads/VITON-HD/test.zip\n",
            "100%|██████████████████████████████████████| 2.69M/2.69M [00:00<00:00, 3.10MB/s]\n",
            "Archive:  test.zip\n",
            "   creating: /home/geralt/Downloads/test/\n",
            "   creating: /home/geralt/Downloads/test/cloth/\n",
            "  inflating: /home/geralt/Downloads/test/cloth/02783_00.jpg  \n",
            "  inflating: /home/geralt/Downloads/test/cloth/07429_00.jpg  \n",
            "  inflating: /home/geralt/Downloads/test/cloth/11028_00.jpg  \n",
            "  inflating: /home/geralt/Downloads/test/cloth/11351_00.jpg  \n",
            "  inflating: /home/geralt/Downloads/test/cloth/01430_00.jpg  \n",
            "  inflating: /home/geralt/Downloads/test/cloth/03751_00.jpg  \n",
            "  inflating: /home/geralt/Downloads/test/cloth/06802_00.jpg  \n",
            "  inflating: /home/geralt/Downloads/test/cloth/08348_00.jpg  \n",
            "  inflating: /home/geralt/Downloads/test/cloth/09933_00.jpg  \n",
            "  inflating: /home/geralt/Downloads/test/cloth/06429_00.jpg  \n",
            "  inflating: /home/geralt/Downloads/test/cloth/11791_00.jpg  \n",
            "  inflating: /home/geralt/Downloads/test/cloth/01260_00.jpg  \n",
            "   creating: /home/geralt/Downloads/test/cloth-mask/\n",
            "  inflating: /home/geralt/Downloads/test/cloth-mask/02783_00.jpg  \n",
            "  inflating: /home/geralt/Downloads/test/cloth-mask/07429_00.jpg  \n",
            "  inflating: /home/geralt/Downloads/test/cloth-mask/11028_00.jpg  \n",
            "  inflating: /home/geralt/Downloads/test/cloth-mask/11351_00.jpg  \n",
            "  inflating: /home/geralt/Downloads/test/cloth-mask/01430_00.jpg  \n",
            "  inflating: /home/geralt/Downloads/test/cloth-mask/03751_00.jpg  \n",
            "  inflating: /home/geralt/Downloads/test/cloth-mask/06802_00.jpg  \n",
            "  inflating: /home/geralt/Downloads/test/cloth-mask/08348_00.jpg  \n",
            "  inflating: /home/geralt/Downloads/test/cloth-mask/09933_00.jpg  \n",
            "  inflating: /home/geralt/Downloads/test/cloth-mask/06429_00.jpg  \n",
            "  inflating: /home/geralt/Downloads/test/cloth-mask/11791_00.jpg  \n",
            "  inflating: /home/geralt/Downloads/test/cloth-mask/01260_00.jpg  \n",
            "   creating: /home/geralt/Downloads/test/image/\n",
            "  inflating: /home/geralt/Downloads/test/image/08909_00.jpg  \n",
            "  inflating: /home/geralt/Downloads/test/image/00891_00.jpg  \n",
            "  inflating: /home/geralt/Downloads/test/image/03615_00.jpg  \n",
            "  inflating: /home/geralt/Downloads/test/image/07445_00.jpg  \n",
            "  inflating: /home/geralt/Downloads/test/image/07573_00.jpg  \n",
            "  inflating: /home/geralt/Downloads/test/image/10549_00.jpg  \n",
            "   creating: /home/geralt/Downloads/test/image-parse/\n",
            "  inflating: /home/geralt/Downloads/test/image-parse/08909_00.png  \n",
            "  inflating: /home/geralt/Downloads/test/image-parse/00891_00.png  \n",
            "  inflating: /home/geralt/Downloads/test/image-parse/03615_00.png  \n",
            "  inflating: /home/geralt/Downloads/test/image-parse/07445_00.png  \n",
            "  inflating: /home/geralt/Downloads/test/image-parse/07573_00.png  \n",
            "  inflating: /home/geralt/Downloads/test/image-parse/10549_00.png  \n",
            "   creating: /home/geralt/Downloads/test/openpose-img/\n",
            "  inflating: /home/geralt/Downloads/test/openpose-img/08909_00_rendered.png  \n",
            "  inflating: /home/geralt/Downloads/test/openpose-img/00891_00_rendered.png  \n",
            "  inflating: /home/geralt/Downloads/test/openpose-img/03615_00_rendered.png  \n",
            "  inflating: /home/geralt/Downloads/test/openpose-img/07445_00_rendered.png  \n",
            "  inflating: /home/geralt/Downloads/test/openpose-img/07573_00_rendered.png  \n",
            "  inflating: /home/geralt/Downloads/test/openpose-img/10549_00_rendered.png  \n",
            "   creating: /home/geralt/Downloads/test/openpose-json/\n",
            "  inflating: /home/geralt/Downloads/test/openpose-json/08909_00_keypoints.json  \n",
            "  inflating: /home/geralt/Downloads/test/openpose-json/00891_00_keypoints.json  \n",
            "  inflating: /home/geralt/Downloads/test/openpose-json/03615_00_keypoints.json  \n",
            "  inflating: /home/geralt/Downloads/test/openpose-json/07445_00_keypoints.json  \n",
            "  inflating: /home/geralt/Downloads/test/openpose-json/07573_00_keypoints.json  \n",
            "  inflating: /home/geralt/Downloads/test/openpose-json/10549_00_keypoints.json  \n",
            "mv: cannot stat '/content/test': No such file or directory\n"
          ]
        }
      ],
      "source": [
        "# datasets/\n",
        "\n",
        "!gdown --id 1ncEHn_6liOot8sgt3A2DOFJBffvx8tW8\n",
        "!mv test_pairs.txt /home/geralt/Downloads/VITON-HD/datasets/\n",
        "!gdown --id 1ZA2C8yMOprwc0TV4hvrt0X-ljZugrClq\n",
        "!unzip test.zip -d /home/geralt/Downloads/\n",
        "!mv /content/test /home/geralt/Downloads/VITON-HD/datasets/\n",
        "!rm test.zip"
      ]
    },
    {
      "cell_type": "code",
      "execution_count": 10,
      "metadata": {
        "colab": {
          "base_uri": "https://localhost:8080/"
        },
        "id": "t1GK27ftT4JV",
        "outputId": "b55f44a3-cdc5-4349-a3ae-2aa4432f34fb"
      },
      "outputs": [
        {
          "name": "stdout",
          "output_type": "stream",
          "text": [
            "Namespace(alias_checkpoint='alias_final.pth', batch_size=1, checkpoint_dir='./checkpoints/', dataset_dir='./datasets/', dataset_list='test_pairs.txt', dataset_mode='test', display_freq=1, gmm_checkpoint='gmm_final.pth', grid_size=5, init_type='xavier', init_variance=0.02, load_height=1024, load_width=768, name='test', ngf=64, norm_G='spectralaliasinstance', num_upsampling_layers='most', save_dir='./results/', seg_checkpoint='seg_final.pth', semantic_nc=13, shuffle=False, workers=1)\n",
            "Network [SegGenerator] was created. Total number of parameters: 34.5 million. To see the architecture, do print(network).\n",
            "Network [ALIASGenerator] was created. Total number of parameters: 100.5 million. To see the architecture, do print(network).\n",
            "/home/geralt/anaconda3/envs/dior/lib/python3.8/site-packages/torchvision/transforms/transforms.py:287: UserWarning: Argument interpolation should be of type InterpolationMode instead of int. Please, use InterpolationMode enum.\n",
            "  warnings.warn(\n",
            "/home/geralt/anaconda3/envs/dior/lib/python3.8/site-packages/torchvision/transforms/transforms.py:287: UserWarning: Argument interpolation should be of type InterpolationMode instead of int. Please, use InterpolationMode enum.\n",
            "  warnings.warn(\n",
            "/home/geralt/anaconda3/envs/dior/lib/python3.8/site-packages/torch/nn/functional.py:3631: UserWarning: Default upsampling behavior when mode=bilinear is changed to align_corners=False since 0.4.0. Please specify align_corners=True if the old behavior is desired. See the documentation of nn.Upsample for details.\n",
            "  warnings.warn(\n",
            "Traceback (most recent call last):\n",
            "  File \"test.py\", line 155, in <module>\n",
            "    main()\n",
            "  File \"test.py\", line 151, in main\n",
            "    test(opt, seg, gmm, alias)\n",
            "  File \"test.py\", line 109, in test\n",
            "    _, warped_grid = gmm(gmm_input, c_gmm)\n",
            "  File \"/home/geralt/anaconda3/envs/dior/lib/python3.8/site-packages/torch/nn/modules/module.py\", line 1102, in _call_impl\n",
            "    return forward_call(*input, **kwargs)\n",
            "  File \"/home/geralt/Downloads/VITON-HD/networks.py\", line 326, in forward\n",
            "    warped_grid = self.gridGen(theta)\n",
            "  File \"/home/geralt/anaconda3/envs/dior/lib/python3.8/site-packages/torch/nn/modules/module.py\", line 1102, in _call_impl\n",
            "    return forward_call(*input, **kwargs)\n",
            "  File \"/home/geralt/Downloads/VITON-HD/networks.py\", line 305, in forward\n",
            "    warped_grid = self.apply_transformation(theta, torch.cat((self.grid_X, self.grid_Y), 3))\n",
            "  File \"/home/geralt/Downloads/VITON-HD/networks.py\", line 274, in apply_transformation\n",
            "    delta_Y = points_Y_for_summation-P_Y\n",
            "RuntimeError: CUDA out of memory. Tried to allocate 76.00 MiB (GPU 0; 1.96 GiB total capacity; 1003.91 MiB already allocated; 42.31 MiB free; 1.07 GiB reserved in total by PyTorch) If reserved memory is >> allocated memory try setting max_split_size_mb to avoid fragmentation.  See documentation for Memory Management and PYTORCH_CUDA_ALLOC_CONF\n"
          ]
        }
      ],
      "source": [
        "!CUDA_VISIBLE_DEVICES=0 python test.py --name test"
      ]
    },
    {
      "cell_type": "code",
      "execution_count": 9,
      "metadata": {
        "id": "pX5LpCNRiGSg"
      },
      "outputs": [],
      "source": [
        "!mv /home/geralt/Downloads/test /home/geralt/Downloads/VITON-HD/datasets/"
      ]
    },
    {
      "cell_type": "code",
      "execution_count": null,
      "metadata": {},
      "outputs": [],
      "source": []
    }
  ],
  "metadata": {
    "accelerator": "GPU",
    "colab": {
      "collapsed_sections": [],
      "name": "VITON-HD.ipynb",
      "provenance": []
    },
    "kernelspec": {
      "display_name": "Python 3",
      "name": "python3"
    },
    "language_info": {
      "codemirror_mode": {
        "name": "ipython",
        "version": 3
      },
      "file_extension": ".py",
      "mimetype": "text/x-python",
      "name": "python",
      "nbconvert_exporter": "python",
      "pygments_lexer": "ipython3",
      "version": "3.8.12"
    }
  },
  "nbformat": 4,
  "nbformat_minor": 0
}
